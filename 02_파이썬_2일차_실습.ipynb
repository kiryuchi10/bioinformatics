{
  "nbformat": 4,
  "nbformat_minor": 0,
  "metadata": {
    "colab": {
      "provenance": []
    },
    "kernelspec": {
      "name": "python3",
      "display_name": "Python 3"
    },
    "language_info": {
      "name": "python"
    }
  },
  "cells": [
    {
      "cell_type": "markdown",
      "source": [
        "##파이썬 자료형"
      ],
      "metadata": {
        "id": "HHquKTlAuxXA"
      }
    },
    {
      "cell_type": "code",
      "execution_count": null,
      "metadata": {
        "colab": {
          "base_uri": "https://localhost:8080/"
        },
        "id": "GVsF4eC-uuHn",
        "outputId": "17a7a1d4-213f-4c87-af8c-5c010e355421"
      },
      "outputs": [
        {
          "output_type": "stream",
          "name": "stdout",
          "text": [
            "파\n"
          ]
        },
        {
          "output_type": "execute_result",
          "data": {
            "text/plain": [
              "10"
            ]
          },
          "metadata": {},
          "execution_count": 5
        }
      ],
      "source": [
        "#string  list tupele은 순서가 있다. indexing과 slicing이 가능하다.\n",
        "a=\"사랑해요, 파이썬!\"\n",
        "#0~9, -1~-10\n",
        "print(a[6])\n",
        "a[0:3] #0<=a<3\n",
        "\"%10s\"%\"파이썬\" #오른쪽 정렬\n",
        "#\"-10s파이썬\"%\"사랑해요\" #왼쪽 정렬\n",
        "\"I ate {0} apples. So, i am {1}\".format(10,\"full\")\n",
        "\"I ate {0} apples. So, i am {word}\".format(10,word=\"full\")\n",
        "\"{0:<10}\".format(\"파이썬\") #10자리로 오른쪽 정렬\n",
        "\"{0:>10}\".format(\"파이썬\") #10자리로 왼쪽 정렬\n",
        "\"{0:^10}\".format(\"파이썬\") #10자리로 중앙 정렬\n",
        "\"{0:*^10}\".format(\"파이썬\") #10자리로 양끝 여백에 *표 채우기\n",
        "\"{0:10.4f}\".format(3.4213423)\n",
        "s=\"{0:10.4f}\".format(3.4213423)\n",
        "len(s)\n",
        "\n"
      ]
    },
    {
      "cell_type": "code",
      "source": [
        "\"%-10s파이썬\"%\"사랑해요\" #왼쪽 정렬"
      ],
      "metadata": {
        "colab": {
          "base_uri": "https://localhost:8080/",
          "height": 37
        },
        "id": "RWjpkuGayuTN",
        "outputId": "aa381b7c-ddf4-4b94-c697-f62dd405c414"
      },
      "execution_count": null,
      "outputs": [
        {
          "output_type": "execute_result",
          "data": {
            "text/plain": [
              "'사랑해요      파이썬'"
            ],
            "application/vnd.google.colaboratory.intrinsic+json": {
              "type": "string"
            }
          },
          "metadata": {},
          "execution_count": 7
        }
      ]
    },
    {
      "cell_type": "code",
      "source": [
        "str(list(range(1,10001))).count(\"7\")"
      ],
      "metadata": {
        "colab": {
          "base_uri": "https://localhost:8080/"
        },
        "id": "QekuZkrv0PjF",
        "outputId": "07698a80-29ff-495c-a67e-0b96292f47f9"
      },
      "execution_count": null,
      "outputs": [
        {
          "output_type": "execute_result",
          "data": {
            "text/plain": [
              "4000"
            ]
          },
          "metadata": {},
          "execution_count": 14
        }
      ]
    },
    {
      "cell_type": "code",
      "source": [
        "a=\"hobby\"\n",
        "a.count('b')"
      ],
      "metadata": {
        "colab": {
          "base_uri": "https://localhost:8080/"
        },
        "id": "H5neQfYe3MBQ",
        "outputId": "3eea95f1-6d97-4aba-f327-0b4e4118c006"
      },
      "execution_count": null,
      "outputs": [
        {
          "output_type": "execute_result",
          "data": {
            "text/plain": [
              "2"
            ]
          },
          "metadata": {},
          "execution_count": 16
        }
      ]
    },
    {
      "cell_type": "code",
      "source": [
        "a=\"Python is best choice\"\n",
        "a.find('b')\n",
        "a.find('is')\n",
        "a.find('k')\n",
        "a.index('b')\n",
        "a.index('is')\n",
        "a.index('k')"
      ],
      "metadata": {
        "colab": {
          "base_uri": "https://localhost:8080/",
          "height": 219
        },
        "id": "atjV4f3G3V2_",
        "outputId": "dddde829-a82e-4766-eae9-c98f06300df5"
      },
      "execution_count": null,
      "outputs": [
        {
          "output_type": "error",
          "ename": "ValueError",
          "evalue": "ignored",
          "traceback": [
            "\u001b[0;31m---------------------------------------------------------------------------\u001b[0m",
            "\u001b[0;31mValueError\u001b[0m                                Traceback (most recent call last)",
            "\u001b[0;32m<ipython-input-17-b02b0780fdfb>\u001b[0m in \u001b[0;36m<cell line: 7>\u001b[0;34m()\u001b[0m\n\u001b[1;32m      5\u001b[0m \u001b[0ma\u001b[0m\u001b[0;34m.\u001b[0m\u001b[0mindex\u001b[0m\u001b[0;34m(\u001b[0m\u001b[0;34m'b'\u001b[0m\u001b[0;34m)\u001b[0m\u001b[0;34m\u001b[0m\u001b[0;34m\u001b[0m\u001b[0m\n\u001b[1;32m      6\u001b[0m \u001b[0ma\u001b[0m\u001b[0;34m.\u001b[0m\u001b[0mindex\u001b[0m\u001b[0;34m(\u001b[0m\u001b[0;34m'is'\u001b[0m\u001b[0;34m)\u001b[0m\u001b[0;34m\u001b[0m\u001b[0;34m\u001b[0m\u001b[0m\n\u001b[0;32m----> 7\u001b[0;31m \u001b[0ma\u001b[0m\u001b[0;34m.\u001b[0m\u001b[0mindex\u001b[0m\u001b[0;34m(\u001b[0m\u001b[0;34m'k'\u001b[0m\u001b[0;34m)\u001b[0m\u001b[0;34m\u001b[0m\u001b[0;34m\u001b[0m\u001b[0m\n\u001b[0m",
            "\u001b[0;31mValueError\u001b[0m: substring not found"
          ]
        }
      ]
    },
    {
      "cell_type": "code",
      "source": [
        "a=\",\"\n",
        "a.join(\"abcd\")"
      ],
      "metadata": {
        "colab": {
          "base_uri": "https://localhost:8080/",
          "height": 37
        },
        "id": "ONLQ2eNZ3vWX",
        "outputId": "0f12d733-07dc-417a-cf0b-083349843ee7"
      },
      "execution_count": null,
      "outputs": [
        {
          "output_type": "execute_result",
          "data": {
            "text/plain": [
              "'a,b,c,d'"
            ],
            "application/vnd.google.colaboratory.intrinsic+json": {
              "type": "string"
            }
          },
          "metadata": {},
          "execution_count": 18
        }
      ]
    },
    {
      "cell_type": "code",
      "source": [
        "a=\"life is too short\"\n",
        "a.split()"
      ],
      "metadata": {
        "colab": {
          "base_uri": "https://localhost:8080/"
        },
        "id": "DaVSy0O_34R1",
        "outputId": "b77f5ec2-58d6-4a83-df0a-488628b51623"
      },
      "execution_count": null,
      "outputs": [
        {
          "output_type": "execute_result",
          "data": {
            "text/plain": [
              "['life', 'is', 'too', 'short']"
            ]
          },
          "metadata": {},
          "execution_count": 21
        }
      ]
    },
    {
      "cell_type": "code",
      "source": [
        "a=\"life is too short\"\n",
        "a.split('.')"
      ],
      "metadata": {
        "colab": {
          "base_uri": "https://localhost:8080/"
        },
        "id": "_Di_hGuA4BX_",
        "outputId": "3e3b28a0-ca38-4f96-c10e-23089a820749"
      },
      "execution_count": null,
      "outputs": [
        {
          "output_type": "execute_result",
          "data": {
            "text/plain": [
              "['life is too short']"
            ]
          },
          "metadata": {},
          "execution_count": 20
        }
      ]
    },
    {
      "cell_type": "code",
      "source": [
        "len(\"orange\"[1:3])\n",
        "\"orange\"[1:3]"
      ],
      "metadata": {
        "colab": {
          "base_uri": "https://localhost:8080/",
          "height": 37
        },
        "id": "xbBR73A341AJ",
        "outputId": "cfe30c5b-bff5-414e-ae1c-dca74df611fa"
      },
      "execution_count": null,
      "outputs": [
        {
          "output_type": "execute_result",
          "data": {
            "text/plain": [
              "'ra'"
            ],
            "application/vnd.google.colaboratory.intrinsic+json": {
              "type": "string"
            }
          },
          "metadata": {},
          "execution_count": 24
        }
      ]
    },
    {
      "cell_type": "code",
      "source": [
        "s=input(\"문자열을 입력하세요: \")\n",
        "print(s[::-1])"
      ],
      "metadata": {
        "colab": {
          "base_uri": "https://localhost:8080/"
        },
        "id": "fEb6OpFg-6z-",
        "outputId": "fa05090f-9d64-4857-d351-42c87e1aa3fa"
      },
      "execution_count": null,
      "outputs": [
        {
          "output_type": "stream",
          "name": "stdout",
          "text": [
            "문자열을 입력하세요: 사랑해요 파이썬!\n",
            "!썬이파 요해랑사\n"
          ]
        }
      ]
    },
    {
      "cell_type": "code",
      "source": [
        "a=input(\"파일을 입력하세요 : \")\n",
        "a=a.split(\".\")\n",
        "파일명=a[0]\n",
        "확장자=a[1]\n",
        "파일=a\n",
        "f\"파일명 :{파일명}, 확장자 {확장자}\""
      ],
      "metadata": {
        "colab": {
          "base_uri": "https://localhost:8080/",
          "height": 56
        },
        "id": "iMhiTrn_AYsL",
        "outputId": "a101e817-eddc-4cb5-fbfd-ce8a1965e10e"
      },
      "execution_count": null,
      "outputs": [
        {
          "name": "stdout",
          "output_type": "stream",
          "text": [
            "파일을 입력하세요 : test.py\n"
          ]
        },
        {
          "output_type": "execute_result",
          "data": {
            "text/plain": [
              "'파일명 :test, 확장자 py'"
            ],
            "application/vnd.google.colaboratory.intrinsic+json": {
              "type": "string"
            }
          },
          "metadata": {},
          "execution_count": 28
        }
      ]
    },
    {
      "cell_type": "code",
      "source": [
        "import datetime\n",
        "now=str(datetime.datetime.now())\n",
        "print(f\"값: {now}\")\n",
        "print(f\"자료형 {type(now)}\")\n",
        "year=now[0:4]\n",
        "month=now[6:7]\n",
        "day=now[9:11]\n",
        "hour=now[11:13]\n",
        "min=now[14:16]\n",
        "sec=now[17:19]\n",
        "f\"지금 시각은 {year}년 {month}월 {day}일 {hour}시 {min}분 {sec}초}\""
      ],
      "metadata": {
        "colab": {
          "base_uri": "https://localhost:8080/",
          "height": 146
        },
        "id": "qTahiU1HDYD4",
        "outputId": "7911a907-c0b3-4cac-c61d-0ac68ff4cf17"
      },
      "execution_count": null,
      "outputs": [
        {
          "output_type": "error",
          "ename": "SyntaxError",
          "evalue": "ignored",
          "traceback": [
            "\u001b[0;36m  File \u001b[0;32m\"<ipython-input-56-698a03f0c754>\"\u001b[0;36m, line \u001b[0;32m11\u001b[0m\n\u001b[0;31m    f\"지금 시각은 {year}년 {month}월 {day}일 {hour}시 {min}분 {sec}초}\"\u001b[0m\n\u001b[0m                                                            ^\u001b[0m\n\u001b[0;31mSyntaxError\u001b[0m\u001b[0;31m:\u001b[0m f-string: single '}' is not allowed\n"
          ]
        }
      ]
    },
    {
      "cell_type": "code",
      "source": [
        "now=str(datetime.datetime.now())\n",
        "print(now)\n",
        "now.split(\"-\")\n",
        "now.split(\":\")\n",
        "now.split(\" \")\n",
        "#ls=now.split('-').split(':').split('')"
      ],
      "metadata": {
        "colab": {
          "base_uri": "https://localhost:8080/"
        },
        "id": "tnkyEF9jHL7P",
        "outputId": "e4e7ac2f-88c3-42d5-b41a-7b78dd3023e8"
      },
      "execution_count": null,
      "outputs": [
        {
          "output_type": "stream",
          "name": "stdout",
          "text": [
            "2023-08-08 03:11:26.989813\n"
          ]
        },
        {
          "output_type": "execute_result",
          "data": {
            "text/plain": [
              "['2023-08-08', '03:11:26.989813']"
            ]
          },
          "metadata": {},
          "execution_count": 37
        }
      ]
    },
    {
      "cell_type": "code",
      "source": [
        "now.split(\":\")"
      ],
      "metadata": {
        "colab": {
          "base_uri": "https://localhost:8080/"
        },
        "id": "SR5Ai9KJIfQz",
        "outputId": "c89ace83-27b1-4dc3-b277-7cb4a37cbff2"
      },
      "execution_count": null,
      "outputs": [
        {
          "output_type": "execute_result",
          "data": {
            "text/plain": [
              "['2023-08-08 03', '11', '26.989813']"
            ]
          },
          "metadata": {},
          "execution_count": 38
        }
      ]
    },
    {
      "cell_type": "code",
      "source": [
        "now.split(\" \")"
      ],
      "metadata": {
        "colab": {
          "base_uri": "https://localhost:8080/"
        },
        "id": "SccDi7y8Il8G",
        "outputId": "d4033b2c-ae4e-433e-e0b8-ec86668b9bda"
      },
      "execution_count": null,
      "outputs": [
        {
          "output_type": "execute_result",
          "data": {
            "text/plain": [
              "['2023-08-08', '03:11:26.989813']"
            ]
          },
          "metadata": {},
          "execution_count": 39
        }
      ]
    },
    {
      "cell_type": "code",
      "source": [
        "now=datetime.datetime.now()\n",
        "print(now.strftime(\"%y년 %m월 %d일 %H시 %M분 %S초 입니다\"))"
      ],
      "metadata": {
        "colab": {
          "base_uri": "https://localhost:8080/"
        },
        "id": "3s6n4vTEI1E1",
        "outputId": "0cd1efa0-1719-4f24-f92e-275cf00125db"
      },
      "execution_count": null,
      "outputs": [
        {
          "output_type": "stream",
          "name": "stdout",
          "text": [
            "23년 08월 08일 03시 17분 36초 입니다\n"
          ]
        }
      ]
    },
    {
      "cell_type": "code",
      "source": [
        "import datetime\n",
        "\n",
        "now = str(datetime.datetime.now())\n",
        "print(f'값    : {now}')\n",
        "print(f'자료형 : {type(now)}')\n",
        "\n",
        "print(f'지금 시각은 {now[:4]}년 {now[5:7]}월 {now[8:10]}일 {now[11:13]}시 {now[14:16]}분 {now[17:19]}초 입니다.')"
      ],
      "metadata": {
        "id": "V2eXGb6MLAMb"
      },
      "execution_count": null,
      "outputs": []
    },
    {
      "cell_type": "code",
      "source": [
        "mport datetime\n",
        "now = str(datetime.datetime.now())\n",
        "now = now.split()\n",
        "day = now[0].split('-')\n",
        "time = now[1].split(':')\n",
        "sec = time[2].split('.')[0]\n",
        "print(f'현재 시각은 {day[0]}년 {day[1]}월 {day[2]}일 {time[0]}시 {time[1]}분 {sec}초 입니다')"
      ],
      "metadata": {
        "id": "90gcQmTyLKUr"
      },
      "execution_count": null,
      "outputs": []
    },
    {
      "cell_type": "code",
      "source": [
        "import urllib.request\n",
        "import ssl\n",
        "\n",
        "ctx = ssl._create_unverified_context()\n",
        "\n",
        "#환율정보 페이지 불러오기\n",
        "print(\"[환율정보 불러오기]\")\n",
        "URL = \"https://search.naver.com/search.naver?where=nexearch&sm=top_hty&fbm=1&ie=utf8&query=%ED%99%98%EC%9C%A8\"\n",
        "page = urllib.request.urlopen(URL, context=ctx)\n",
        "text = page.read().decode(\"utf8\")  # 해당 페이지의 소스코드\n",
        "#print(text)\n",
        "\n",
        "#환율정보 가져오기: 기준시간\n",
        "searchText = 'class=\"grp_info\"> <em>' #naver 시간 정보\n",
        "where      = text.find(searchText)  #소스코드에서 해당 문자열의 시작위치\n",
        "print(f'위치{where}')\n",
        "print(f'위치{len(searchText)}')\n",
        "\n",
        "targetInfo = text[where+len(searchText):where+len(searchText)+16]\n",
        "print(f'-환율기준시간: {targetInfo}')\n",
        "\n",
        "#환율정보 가져오기: 달러\n",
        "searchText = '<span>미국 <em>USD</em></span></a></th> <td><span>'\n",
        "where      = text.find(searchText)\n",
        "targetInfo = text[where+len(searchText):where+len(searchText)+8]\n",
        "print(f'-달러: {targetInfo}')"
      ],
      "metadata": {
        "colab": {
          "base_uri": "https://localhost:8080/"
        },
        "id": "chPD0aHPLMTM",
        "outputId": "7d6cde6a-d7c5-4498-895b-ad86e861234f"
      },
      "execution_count": null,
      "outputs": [
        {
          "output_type": "stream",
          "name": "stdout",
          "text": [
            "[환율정보 불러오기]\n",
            "위치74032\n",
            "위치22\n",
            "-환율기준시간: 2023.08.08 12:32\n",
            "-달러: 1,313.30\n"
          ]
        }
      ]
    },
    {
      "cell_type": "code",
      "source": [
        "import urllib.request\n",
        "import ssl\n",
        "\n",
        "ctx = ssl._create_unverified_context()\n",
        "\n",
        "#환율정보 페이지 불러오기\n",
        "print(\"[환율정보 불러오기]\")\n",
        "URL = \"https://search.naver.com/search.naver?where=nexearch&sm=top_hty&fbm=1&ie=utf8&query=%ED%99%98%EC%9C%A8\"\n",
        "page = urllib.request.urlopen(URL, context=ctx)\n",
        "text = page.read().decode(\"utf8\")  # 해당 페이지의 소스코드\n",
        "#print(text)\n",
        "\n",
        "#환율정보 가져오기: 기준시간\n",
        "searchText = 'class=\"grp_info\"> <em>' #naver 시간 정보\n",
        "where      = text.find(searchText)  #소스코드에서 해당 문자열의 시작위치\n",
        "print(f'위치{where}')\n",
        "print(f'위치{len(searchText)}')\n",
        "\n",
        "targetInfo = text[where+len(searchText):where+len(searchText)+16]\n",
        "print(f'-환율기준시간: {targetInfo}')\n",
        "\n",
        "#환율정보 가져오기: 위안\n",
        "searchText = '<span>중국 <em>CNY</em></span></a></th> <td><span>'\n",
        "where      = text.find(searchText)\n",
        "targetInfo = text[where+len(searchText):where+len(searchText)+8]\n",
        "print(f'-위안: {targetInfo}')"
      ],
      "metadata": {
        "colab": {
          "base_uri": "https://localhost:8080/"
        },
        "id": "_oS7aM1nOogh",
        "outputId": "7cf2b9dd-9e5c-4b4a-bd30-a07787876e3b"
      },
      "execution_count": null,
      "outputs": [
        {
          "output_type": "stream",
          "name": "stdout",
          "text": [
            "[환율정보 불러오기]\n",
            "위치74032\n",
            "위치22\n",
            "-환율기준시간: 2023.08.08 12:38\n",
            "-위안: 182.06</\n"
          ]
        }
      ]
    },
    {
      "cell_type": "code",
      "source": [
        "import urllib.request\n",
        "import ssl\n",
        "\n",
        "ctx = ssl._create_unverified_context()\n",
        "\n",
        "#환율정보 페이지 불러오기\n",
        "print(\"[환율정보 불러오기]\")\n",
        "URL = \"https://search.naver.com/search.naver?where=nexearch&sm=top_hty&fbm=1&ie=utf8&query=%ED%99%98%EC%9C%A8\"\n",
        "page = urllib.request.urlopen(URL, context=ctx)\n",
        "text = page.read().decode(\"utf8\")  # 해당 페이지의 소스코드\n",
        "#print(text)\n",
        "\n",
        "#환율정보 가져오기: 기준시간\n",
        "searchText = 'class=\"grp_info\"> <em>' #naver 시간 정보\n",
        "where      = text.find(searchText)  #소스코드에서 해당 문자열의 시작위치\n",
        "print(f'위치{where}')\n",
        "print(f'위치{len(searchText)}')\n",
        "\n",
        "targetInfo = text[where+len(searchText):where+len(searchText)+16]\n",
        "print(f'-환율기준시간: {targetInfo}')\n",
        "\n",
        "#환율정보 가져오기: 유로\n",
        "searchText = '<span>유럽연합 <em>EUR</em></span></a></th> <td><span>'\n",
        "where      = text.find(searchText)\n",
        "targetInfo = text[where+len(searchText):where+len(searchText)+8]\n",
        "print(f'-유로: {targetInfo}')"
      ],
      "metadata": {
        "colab": {
          "base_uri": "https://localhost:8080/"
        },
        "id": "zuddhmqiPJ07",
        "outputId": "b833e3f1-8b61-421b-a97f-694bf34c6b2c"
      },
      "execution_count": null,
      "outputs": [
        {
          "output_type": "stream",
          "name": "stdout",
          "text": [
            "[환율정보 불러오기]\n",
            "위치74032\n",
            "위치22\n",
            "-환율기준시간: 2023.08.08 12:41\n",
            "-유로: 1,443.76\n"
          ]
        }
      ]
    },
    {
      "cell_type": "code",
      "source": [
        "import urllib.request\n",
        "import ssl\n",
        "\n",
        "ctx = ssl._create_unverified_context()\n",
        "\n",
        "#환율정보 페이지 불러오기\n",
        "print(\"[환율정보 불러오기]\")\n",
        "URL = \"https://search.naver.com/search.naver?where=nexearch&sm=top_hty&fbm=1&ie=utf8&query=%ED%99%98%EC%9C%A8\"\n",
        "page = urllib.request.urlopen(URL, context=ctx)\n",
        "text = page.read().decode(\"utf8\")  # 해당 페이지의 소스코드\n",
        "# print(text)\n",
        "\n",
        "#환율정보 가져오기: 기준시간\n",
        "searchText = 'class=\"grp_info\"> <em>'\n",
        "where      = text.find(searchText)  #소스코드에서 해당 문자열의 시작위치\n",
        "(f'위치: {where}')\n",
        "(f'searchText 길이: {len(searchText)}')\n",
        "start=where+len(searchText)\n",
        "end=where+len(searchText)+16\n",
        "targetInfo = text[where+len(searchText):where+len(searchText)+16]\n",
        "print(f'-환율기준시간: {targetInfo}')\n",
        "\n",
        "#환율정보 가져오기: 달러\n",
        "searchText = '<span>미국 <em>USD</em></span></a></th> <td><span>'\n",
        "where      = text.find(searchText)\n",
        "targetInfo = text[where+len(searchText):where+len(searchText)+8]\n",
        "print(f'-달러: {targetInfo}')\n",
        "\n",
        "#환율정보 가져오기: 유로\n",
        "searchText = '<span>유럽연합 <em>EUR</em></span></a></th> <td><span>'\n",
        "where      = text.find(searchText)\n",
        "targetInfo = text[where+len(searchText):where+len(searchText)+8]\n",
        "print(f'-유로: {targetInfo}')\n",
        "\n",
        "#환율정보 가져오기: 위안\n",
        "searchText = '<span>중국 <em>CNY</em></span></a></th> <td><span>'\n",
        "where      = text.find(searchText)\n",
        "targetInfo = text[where+len(searchText):where+len(searchText)+6]\n",
        "print(f'-위안: {targetInfo}')\n",
        "\n",
        "#환율정보 가져오기: 파운드\n",
        "searchText = '<span>영국 <em>GBP</em></span></a></th> <td><span>'\n",
        "where      = text.find(searchText)\n",
        "targetInfo = text[where+len(searchText):where+len(searchText)+8]\n",
        "print(f'-파운드: {targetInfo}')\n",
        "\n",
        "#환율정보 가져오기: 엔화\n",
        "searchText = '<span>일본 <em>JPY 100</em></span></a></th> <td><span>'\n",
        "where      = text.find(searchText)\n",
        "targetInfo = text[where+len(searchText):where+len(searchText)+6]\n",
        "print(f'-엔화: {targetInfo}')"
      ],
      "metadata": {
        "id": "x-Tn3iQsPxQM"
      },
      "execution_count": null,
      "outputs": []
    },
    {
      "cell_type": "markdown",
      "source": [
        "#연산자\n"
      ],
      "metadata": {
        "id": "G169gxowjBz9"
      }
    },
    {
      "cell_type": "code",
      "source": [
        "#산술,관계, 논리, 멤버쉽, 연산자 우선순위\n",
        "money=int(input(\"동전으로 교환할 금액을 입력하세요:\"))\n",
        "print('-'*30)\n",
        "print(f\"500원짜리 동전 {money//500}개\")\n",
        "money=money%500\n",
        "print(f\"100원짜리 동전 {money//100}개\")\n",
        "money=money%100\n",
        "print(f\"50원짜리 동전 {money//50}개\")\n",
        "money=money%50\n",
        "print(f\"10원짜리 동전 {money//10}개\")\n",
        "money=money%10\n",
        "print(f\"1원짜리 동전 {money//1}개\")\n",
        "money=money%1"
      ],
      "metadata": {
        "colab": {
          "base_uri": "https://localhost:8080/"
        },
        "id": "IizAFkjQjEHE",
        "outputId": "2420006e-1161-4587-c108-1521e4c16c49"
      },
      "execution_count": null,
      "outputs": [
        {
          "output_type": "stream",
          "name": "stdout",
          "text": [
            "동전으로 교환할 금액을 입력하세요:4321\n",
            "------------------------------\n",
            "500원짜리 동전 8개\n",
            "100원짜리 동전 3개\n",
            "50원짜리 동전 0개\n",
            "10원짜리 동전 2개\n",
            "1원짜리 동전 1개\n"
          ]
        }
      ]
    },
    {
      "cell_type": "code",
      "source": [
        "money=int(input(\"동전으로 교환할 금액을 입력하세요:\"))\n",
        "print('-'*30)\n",
        "(f\"지폐 50000원 {money//50000}, 10000 {(money%50000)//10000}, 5000원 {((money%50000)//10000)//5000}\")\n",
        "#(f\"동전 500원 {}개, 100원 {}개 ,50원 {}개 10원 {}개\"\n",
        "for i in money:\n",
        "   if money>50000:\n",
        "      a=money//50\n",
        "      money=money%50000\n",
        "    elif money>10000:\n"
      ],
      "metadata": {
        "colab": {
          "base_uri": "https://localhost:8080/",
          "height": 146
        },
        "id": "HGG1Hlx3pWUj",
        "outputId": "c83d237a-e93a-46cf-a921-2c364e406ea7"
      },
      "execution_count": null,
      "outputs": [
        {
          "output_type": "error",
          "ename": "SyntaxError",
          "evalue": "ignored",
          "traceback": [
            "\u001b[0;36m  File \u001b[0;32m\"<ipython-input-76-9bc678d35be1>\"\u001b[0;36m, line \u001b[0;32m4\u001b[0m\n\u001b[0;31m    (f\"동전 500원 {}개, 100원 {}개 ,50원 {}개 10원 {}개\"\u001b[0m\n\u001b[0m                                              ^\u001b[0m\n\u001b[0;31mSyntaxError\u001b[0m\u001b[0;31m:\u001b[0m incomplete input\n"
          ]
        }
      ]
    },
    {
      "cell_type": "code",
      "source": [
        "bills = [50000, 10000, 5000, 1000]\n",
        "coins = [500, 100, 50, 10]\n",
        "M = int(input('교환할 돈은 얼마? :'))\n",
        "print('-' * 30)\n",
        "print('지폐 : ')\n",
        "for bill in bills:\n",
        "  print(f'{bill}원 {M//bill}장')\n",
        "  M = M % bill\n",
        "print()\n",
        "print('동전 : ')\n",
        "for coin in coins:\n",
        "  print(f'{coin}원 {M//coin}장')\n",
        "  M = M % coin\n",
        "print(f\"잔돈 : {M}\")"
      ],
      "metadata": {
        "colab": {
          "base_uri": "https://localhost:8080/"
        },
        "id": "2EwgC3a8sUI3",
        "outputId": "46611647-d57e-4b52-e577-c321f5cde42b"
      },
      "execution_count": null,
      "outputs": [
        {
          "output_type": "stream",
          "name": "stdout",
          "text": [
            "교환할 돈은 얼마? :657890\n",
            "------------------------------\n",
            "지폐 : \n",
            "50000원 13장\n",
            "10000원 0장\n",
            "5000원 1장\n",
            "1000원 2장\n",
            "\n",
            "동전 : \n",
            "500원 1장\n",
            "100원 3장\n",
            "50원 1장\n",
            "10원 4장\n",
            "잔돈 : 0\n"
          ]
        }
      ]
    },
    {
      "cell_type": "code",
      "source": [
        "a=500\n",
        "if a <1000:\n",
        "  print(f\"{a}는 1000보다 작군요\")"
      ],
      "metadata": {
        "colab": {
          "base_uri": "https://localhost:8080/"
        },
        "id": "a9Ep78IStJRU",
        "outputId": "bbb71d65-1838-4b55-b3eb-931052e8b862"
      },
      "execution_count": null,
      "outputs": [
        {
          "output_type": "stream",
          "name": "stdout",
          "text": [
            "500는 1000보다 작군요\n"
          ]
        }
      ]
    },
    {
      "cell_type": "code",
      "source": [
        "a=1500\n",
        "if a <1000:\n",
        "  print(f\"{a}는 1000보다 작군요\")\n",
        "else:\n",
        "  print(f\"{a}는 1000보다 크거나 같군요\")"
      ],
      "metadata": {
        "colab": {
          "base_uri": "https://localhost:8080/"
        },
        "id": "EKL-O93GtnWS",
        "outputId": "9b9cad93-4b18-4089-f87f-3393957184b7"
      },
      "execution_count": null,
      "outputs": [
        {
          "output_type": "stream",
          "name": "stdout",
          "text": [
            "1500는 1000보다 크거나 같군요\n"
          ]
        }
      ]
    },
    {
      "cell_type": "code",
      "source": [
        "#중첩 if ~문\n",
        "온도= float(input(\"온도를 입력해주세요 : \"))\n",
        "if 온도 > 30:\n",
        "  if 온도 >35:\n",
        "    print(\"쾌적한 온도가 아닙니다\" )\n",
        "  else:\n",
        "    print(\"쾌적한 온도가 입니다\")\n",
        "  else:\n",
        "    if 20<온도=<30:\n",
        "      print(\"활동하기 좋은 온도 입니다.\")\n",
        "    else:\n",
        "      print(\"추운 날씨이네요\")"
      ],
      "metadata": {
        "colab": {
          "base_uri": "https://localhost:8080/",
          "height": 146
        },
        "id": "rO-9pHX7t4qK",
        "outputId": "0ba2f739-e916-4390-a394-4172d81fd1bf"
      },
      "execution_count": null,
      "outputs": [
        {
          "output_type": "error",
          "ename": "SyntaxError",
          "evalue": "ignored",
          "traceback": [
            "\u001b[0;36m  File \u001b[0;32m\"<ipython-input-90-f3d3b76a6b57>\"\u001b[0;36m, line \u001b[0;32m8\u001b[0m\n\u001b[0;31m    else:\u001b[0m\n\u001b[0m    ^\u001b[0m\n\u001b[0;31mSyntaxError\u001b[0m\u001b[0;31m:\u001b[0m invalid syntax\n"
          ]
        }
      ]
    },
    {
      "cell_type": "code",
      "source": [
        "#if~ elif else~ 중첩문\n",
        "온도= float(input(\"온도를 입력해주세요 : \"))\n",
        "if 온도 >35:\n",
        "  print(\"쾌적한 온도가 아닙니다\" )\n",
        "elif 온도 >30:\n",
        "  print(\"쾌적한 온도에 가깝습니다\" )\n",
        "elif 온도 >10:\n",
        "  print(\"쾌적한 온도가 입니다\" )\n",
        "else:\n",
        "  print(\"추운 날씨 입니다\" )\n",
        "\n"
      ],
      "metadata": {
        "colab": {
          "base_uri": "https://localhost:8080/"
        },
        "id": "g8o8NsHzvXxx",
        "outputId": "f4210f30-0c41-494b-b91c-cd99536422bf"
      },
      "execution_count": null,
      "outputs": [
        {
          "output_type": "stream",
          "name": "stdout",
          "text": [
            "온도를 입력해주세요 : 9\n",
            "추운 날씨 입니다\n"
          ]
        }
      ]
    },
    {
      "cell_type": "code",
      "source": [
        "x=int(input('숫자를 입력해주세요'))\n",
        "if x%2 ==0:\n",
        "  print(f\"{x}는 짝수입니다\")\n",
        "else:\n",
        "  print(f\"{x}는 홀수입니다\")"
      ],
      "metadata": {
        "colab": {
          "base_uri": "https://localhost:8080/"
        },
        "id": "_c5mWGIa2Rev",
        "outputId": "04df4e04-ed62-4863-9400-2458734d232d"
      },
      "execution_count": null,
      "outputs": [
        {
          "output_type": "stream",
          "name": "stdout",
          "text": [
            "숫자를 입력해주세요4\n",
            "4는 짝수입니다\n"
          ]
        }
      ]
    },
    {
      "cell_type": "code",
      "source": [
        "score=int(input(\"성적을 입력해주세요 : \"))\n",
        "if score>=90:\n",
        "    print(f\"{score}는 A 등급입니다\")\n",
        "elif score>=80:\n",
        "    print(f\"{score}는 B 등급입니다\")\n",
        "elif score>=70:\n",
        "    print(f\"{score}는 C 등급입니다\")\n",
        "else:\n",
        "    print(f\"{score}는 D 등급입니다\")"
      ],
      "metadata": {
        "colab": {
          "base_uri": "https://localhost:8080/"
        },
        "id": "Po70tfZ-3l47",
        "outputId": "716aef01-c96d-471f-cbe1-a7ce62536a90"
      },
      "execution_count": null,
      "outputs": [
        {
          "output_type": "stream",
          "name": "stdout",
          "text": [
            "성적을 입력해주세요 : 66\n",
            "66는 D 등급입니다\n"
          ]
        }
      ]
    },
    {
      "cell_type": "code",
      "source": [
        "score = float(input('성적을 입력해 주세요: '))\n",
        "print(\"-\"*20)\n",
        "\n",
        "if score >= 90:\n",
        "  grade = \"A\"\n",
        "elif score >= 80:\n",
        "  grade = \"B\"\n",
        "elif score >= 70:\n",
        "  grade = \"C\"\n",
        "else:\n",
        "  grade = \"D\"\n",
        "\n",
        "print(f'성적: {score}는 {grade}등급 입니다.')"
      ],
      "metadata": {
        "colab": {
          "base_uri": "https://localhost:8080/"
        },
        "id": "gLzTrqx44-nb",
        "outputId": "cad04849-f9d3-499a-8a76-2651eef980fa"
      },
      "execution_count": null,
      "outputs": [
        {
          "output_type": "stream",
          "name": "stdout",
          "text": [
            "성적을 입력해 주세요: 66\n",
            "--------------------\n",
            "성적: 66.0는 D등급 입니다.\n"
          ]
        }
      ]
    },
    {
      "cell_type": "code",
      "source": [
        "tmp=float(input(\"온도를 입력하세요 : \"))\n",
        "if tmp>30:\n",
        "  print(\"온도가 30도 이상이면 에어컨을 켜고\")\n",
        "elif tmp>15:\n",
        "  print(\"온도가 15도 미만이면 되면 내복을 입고\")\n",
        "elif tmp>10:\n",
        "  print(\"온도가 10도 이하면 난방기를 켠다.\")\n",
        "else:\n",
        "  print(\"나머지는 쾌적한 온도~\")"
      ],
      "metadata": {
        "colab": {
          "base_uri": "https://localhost:8080/"
        },
        "id": "3GTTyls97EZ6",
        "outputId": "21d70e94-24d2-4ed1-9b24-f064633ffc98"
      },
      "execution_count": null,
      "outputs": [
        {
          "name": "stdout",
          "output_type": "stream",
          "text": [
            "온도를 입력하세요 : 35\n",
            "온도가 30도 이상이면 에어컨을 켜고\n",
            "온도를 입력하세요 : 22\n"
          ]
        }
      ]
    },
    {
      "cell_type": "code",
      "source": [
        "info=str(input(\"주민등록번호 입력하시오 : \"))\n",
        "s=info.split(\"-\")\n",
        "byr=int(s[0][0:2])\n",
        "print(s[0],s[1])\n",
        "if int(s[0][0:4])>2000:\n",
        "  yr=2000\n",
        "  if int(s[1][0])==3:\n",
        "    g=\"남성\"\n",
        "  else:\n",
        "    g=\"여성\"\n",
        "else:\n",
        "  yr=1900\n",
        "  if int(s[1][0])==1:\n",
        "    g=\"남성\"\n",
        "  else:\n",
        "    g=\"여성\"\n",
        "\n",
        "print(f\"주민번호 :{info}, {yr+byr}년 {s[0][2:4]}월 {s[0][4:6]}일 {g}\")"
      ],
      "metadata": {
        "id": "TEmck5SN_ASp",
        "colab": {
          "base_uri": "https://localhost:8080/"
        },
        "outputId": "a2c8d224-2ab6-42a5-b23e-a64f45955e00"
      },
      "execution_count": 122,
      "outputs": [
        {
          "output_type": "stream",
          "name": "stdout",
          "text": [
            "주민등록번호 입력하시오 : 870701-2409184\n",
            "870701 2409184\n",
            "주민번호 :870701-2409184, 2087년 07월 01일 여성\n"
          ]
        }
      ]
    },
    {
      "cell_type": "code",
      "source": [
        "userid = input('주민번호: ')\n",
        "yy = userid[:2]   # 년도\n",
        "mm = userid[2:4]  # 월\n",
        "dd = userid[4:6]  # 일\n",
        "\n",
        "# gender확인\n",
        "if userid[7] == '1':\n",
        "  gender = '남성'\n",
        "  yy = 1900 + int(yy)\n",
        "if userid[7] == '2':\n",
        "  gender = '여성'\n",
        "  yy = 1900 + int(yy)\n",
        "if userid[7] == '3':\n",
        "  gender = '남성'\n",
        "  yy = 2000 + int(yy)\n",
        "if userid[7] == '4':\n",
        "  gender = '여성'\n",
        "  yy = 2000 + int(yy)\n",
        "\n",
        "import datetime\n",
        "now  = datetime.datetime.now()\n",
        "age = now.year - yy       # 나이 계산\n",
        "\n",
        "print(f'{yy}년 {mm}월 {dd}일, {age}세, {gender}')"
      ],
      "metadata": {
        "colab": {
          "base_uri": "https://localhost:8080/"
        },
        "id": "r60bgI4ECQBr",
        "outputId": "1cab7b84-848a-43e2-b50b-e764c4bb18db"
      },
      "execution_count": null,
      "outputs": [
        {
          "output_type": "execute_result",
          "data": {
            "text/plain": [
              "19"
            ]
          },
          "metadata": {},
          "execution_count": 111
        }
      ]
    },
    {
      "cell_type": "code",
      "source": [
        "info=str(input(\"주민등록번호 입력하시오 : \"))\n",
        "s=info.split(\"-\")\n",
        "byr=int(s[0][0:2])\n",
        "print(s[0],s[1])\n",
        "\n",
        "if int(s[1][0])==3:\n",
        "    g=\"남성\"\n",
        "    yr=2000\n",
        "elif int(s[1][0])==4:\n",
        "    g=\"여성\"\n",
        "    yr=2000\n",
        "elif int(s[1][0])==1:\n",
        "    g=\"남성\"\n",
        "    yr=1900\n",
        "else:\n",
        "    g=\"여성\"\n",
        "    yr=1900\n",
        "\n",
        "print(f\"주민번호 :{info}, {yr+byr}년 {s[0][2:4]}월 {s[0][4:6]}일 {g}\")"
      ],
      "metadata": {
        "colab": {
          "base_uri": "https://localhost:8080/"
        },
        "id": "BbRvGq98E54Z",
        "outputId": "7fe2b7ca-3c0f-4431-d1be-91dcae4b2194"
      },
      "execution_count": 125,
      "outputs": [
        {
          "output_type": "stream",
          "name": "stdout",
          "text": [
            "주민등록번호 입력하시오 : 870701-2409184\n",
            "870701 2409184\n",
            "주민번호 :870701-2409184, 1987년 07월 01일 여성\n"
          ]
        }
      ]
    },
    {
      "cell_type": "code",
      "source": [
        "#키오스크 주문메뉴판 만들기\n",
        "coffee_price1=2500\n",
        "coffee_price2=3000\n",
        "coffee_price3=3000\n",
        "coffee1=2\n",
        "coffee2=2\n",
        "coffee3=1\n",
        "menu=f\"\"\"\n",
        "print('-'*30)\n",
        "-아메리카노 {coffe_price1}\n",
        "-카페라떼: {coffe_price2}\n",
        "-카푸치노 {coffe_price3}\n",
        "print('-'*30)\n",
        "\"\"\"\n",
        "coffee_order=[2,2,1]\n",
        "coffee_price=[2500,3000,3000]\n",
        "money=int(input(\"돈을 입력해주세요\"))\n",
        "total=coffee_price1*coffee1+coffee_price2*coffee2+coffee_price3*coffee3\n",
        "if total>money:\n",
        "  print(\"돈을 더 넣어 주세요\")\n",
        "else:\n",
        "  print(f\"총액은 {total}입니다. {money-total}의 잔금이 발생했습니다. 커피맛있게 드세요\")"
      ],
      "metadata": {
        "colab": {
          "base_uri": "https://localhost:8080/"
        },
        "id": "1EIU5d54FlvS",
        "outputId": "6cd5d85d-bc60-4e31-fdca-2fbee8b17734"
      },
      "execution_count": 133,
      "outputs": [
        {
          "output_type": "stream",
          "name": "stdout",
          "text": [
            "돈을 입력해주세요12000\n",
            "돈을 더 넣어 주세요\n"
          ]
        }
      ]
    }
  ]
}