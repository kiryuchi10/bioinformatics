{
  "nbformat": 4,
  "nbformat_minor": 0,
  "metadata": {
    "colab": {
      "provenance": []
    },
    "kernelspec": {
      "name": "python3",
      "display_name": "Python 3"
    },
    "language_info": {
      "name": "python"
    }
  },
  "cells": [
    {
      "cell_type": "code",
      "execution_count": null,
      "metadata": {
        "id": "FhSwvox2ELMG"
      },
      "outputs": [],
      "source": [
        "## (1~100)사이 랜덤 숫자 맞추는 업다운 게임 만들기\n",
        "\n",
        "import random\n",
        "\n",
        "rand=random.randint(1,100)\n",
        "\n",
        "print(f'* 비밀의 숫자가 지정되었습니다.')\n",
        "print('*'*10)\n",
        "t=0\n",
        "\n",
        "while True:\n",
        "  num=int(input(f'숫자를 입력하세요:'))\n",
        "  if rand>num:\n",
        "    print('-'*10)\n",
        "    print(f'비밀의 숫자가 더 큽니다. 다시 입력해주세요.')\n",
        "    t+=1\n",
        "  elif rand<num:\n",
        "    print('-'*10)\n",
        "    print(f'비밀의 숫자가 더 작습니다. 다시 입력해주세요')\n",
        "    t+=1\n",
        "  else:\n",
        "    print('-'*10)\n",
        "    print(f'정답을 맞추셨습니다. 비밀의 숫자는 {rand}입니다.')\n",
        "    t+=1\n",
        "    break\n",
        "\n",
        "print(f'비밀의 숫자: {rand}')\n",
        "print(f'당신의 입력 횟수: {t}')"
      ]
    },
    {
      "cell_type": "code",
      "source": [
        "# [복습문제] 공이 튕긴 횟수\n",
        "length  = int(input('공의 높이를 입력해주세요(meter): '))\n",
        "meter = length  # 현재 공의 위치(높이)\n",
        "cnt = 0         # 공이 튕긴 횟수\n",
        "while True:\n",
        "    meter = meter / 2\n",
        "    cnt = cnt + 1\n",
        "    print(meter,' : ', cnt)\n",
        "    if meter < 0.00001:\n",
        "        break\n",
        "print(f'{length} 위치에서 공이 튕긴 횟수는 총 {cnt} 입니다.')"
      ],
      "metadata": {
        "id": "uSij_Qv3F1BK"
      },
      "execution_count": null,
      "outputs": []
    },
    {
      "cell_type": "code",
      "source": [
        "# 각 방(2차원 리스트)에 값을 추가한다.\n",
        "value = 1\n",
        "mylist = []\n",
        "for i in range(5):\n",
        "    mylist.append([])\n",
        "    for _ in range(6):\n",
        "        mylist[i].append(f'{value:>2}')\n",
        "        value += 1\n",
        "print(mylist)\n",
        "\n",
        "for i in range(4):\n",
        "    print(\" \".join(mylist[i]))  # 1 2 3 4"
      ],
      "metadata": {
        "id": "jLD8R7UZGAm8"
      },
      "execution_count": null,
      "outputs": []
    },
    {
      "cell_type": "code",
      "source": [
        "a_list = [3,4,6,8,9]\n",
        "six_index = a_list.index(6)\n",
        "print(f'6 이란 값의 인덱스: {six_index}')\n",
        "\n",
        "for idx, v in enumerate(a_list):\n",
        "    print(f'인덱스:{idx}  값:{v}')"
      ],
      "metadata": {
        "id": "LuJv2ayIGFlk"
      },
      "execution_count": null,
      "outputs": []
    },
    {
      "cell_type": "markdown",
      "source": [
        "#리스트 사용하기"
      ],
      "metadata": {
        "id": "QyIqGXbUINfJ"
      }
    },
    {
      "cell_type": "code",
      "source": [
        "idols=['BTS','뉴진스','세븐틴','블랙핑크','모모랜드']\n",
        "scores=[] #bin list 만들기\n",
        "\n",
        "for idol in idols:\n",
        "  score=float(input(f\"{idol}의 성적은?: \"))\n",
        "  scores.append(score)\n",
        "print('_'*50)\n",
        "print(\"아이돌 성적 결과\")\n",
        "print('_'*50)\n",
        "8\n",
        "for idx, idol in enumerate(scores):\n",
        "  if scores[idx]>=80:\n",
        "    result=\"수료\"\n",
        "  else:\n",
        "    result=\"미수료\"\n",
        "  print(f\"{idols[idx]}의 성적은 {scores[idx]},\\n 따라서 {result}이다.\")"
      ],
      "metadata": {
        "colab": {
          "base_uri": "https://localhost:8080/"
        },
        "id": "8WbKHVJFITrE",
        "outputId": "44927fa7-dac2-44a1-e496-4574dc556580"
      },
      "execution_count": null,
      "outputs": [
        {
          "output_type": "stream",
          "name": "stdout",
          "text": [
            "BTS의 성적은?: 100\n",
            "뉴진스의 성적은?: 80\n",
            "세븐틴의 성적은?: 80\n",
            "블랙핑크의 성적은?: 40\n",
            "모모랜드의 성적은?: 50\n",
            "__________________________________________________\n",
            "아이돌 성적 결과\n",
            "__________________________________________________\n",
            "BTS의 성적은 100.0,\n",
            " 따라서 수료이다.\n",
            "뉴진스의 성적은 80.0,\n",
            " 따라서 수료이다.\n",
            "세븐틴의 성적은 80.0,\n",
            " 따라서 수료이다.\n",
            "블랙핑크의 성적은 40.0,\n",
            " 따라서 미수료이다.\n",
            "모모랜드의 성적은 50.0,\n",
            " 따라서 미수료이다.\n"
          ]
        }
      ]
    },
    {
      "cell_type": "code",
      "source": [
        "print(sorted(idols))\n",
        "scores.sort(reverse=True) #내림차순 정렬\n",
        "print(scores)"
      ],
      "metadata": {
        "id": "uURWlGDpKveK"
      },
      "execution_count": null,
      "outputs": []
    },
    {
      "cell_type": "code",
      "source": [
        "#특정 위치에 요소 추가하기\n",
        "idols.insert(2, \"조용필\")# 3번째에 조용필 삽입\n",
        "idols"
      ],
      "metadata": {
        "colab": {
          "base_uri": "https://localhost:8080/"
        },
        "id": "9daVtKm8Llmy",
        "outputId": "65cc9e42-b907-4e07-c400-6c48d882f18f"
      },
      "execution_count": null,
      "outputs": [
        {
          "output_type": "execute_result",
          "data": {
            "text/plain": [
              "['BTS', '뉴진스', '조용필', '세븐틴', '블랙핑크', '모모랜드']"
            ]
          },
          "metadata": {},
          "execution_count": 4
        }
      ]
    },
    {
      "cell_type": "markdown",
      "source": [
        "#딕션너리"
      ],
      "metadata": {
        "id": "YJH5KaYPNCmx"
      }
    },
    {
      "cell_type": "code",
      "source": [
        "scores={'Kor':90,'Eng':100, 'Math':80 ,\"Geo\":75}\n",
        "print(scores)\n",
        "scores['Chem']=100\n",
        "scores\n",
        "print(type(scores),scores)\n",
        "\n",
        "for key in scores:\n",
        "  print(f\"{key}는 {scores[key]:>3}\")"
      ],
      "metadata": {
        "colab": {
          "base_uri": "https://localhost:8080/"
        },
        "id": "J3RR-PDCNG1s",
        "outputId": "d746a0ae-eaeb-41d1-a408-5b1a679cdd1e"
      },
      "execution_count": null,
      "outputs": [
        {
          "output_type": "stream",
          "name": "stdout",
          "text": [
            "{'Kor': 90, 'Eng': 100, 'Math': 80, 'Geo': 75}\n",
            "<class 'dict'> {'Kor': 90, 'Eng': 100, 'Math': 80, 'Geo': 75, 'Chem': 100}\n",
            "Kor는  90\n",
            "Eng는 100\n",
            "Math는  80\n",
            "Geo는  75\n",
            "Chem는 100\n"
          ]
        }
      ]
    },
    {
      "cell_type": "code",
      "source": [
        "#딕션너리에서 키만 출력\n",
        "scores.keys()\n",
        "scores.values()\n",
        "for key in scores:\n",
        "  print(key,end=' ')\n",
        "\n",
        "#딕션너리에서 값만 출력\n",
        "print(scores.values())\n",
        "\n",
        "#딕션너리에서 (키,값) 출력\n",
        "print(scores.items())"
      ],
      "metadata": {
        "colab": {
          "base_uri": "https://localhost:8080/"
        },
        "id": "WdDbDUAQPLOQ",
        "outputId": "ee101ba1-cd15-460e-e354-4b36b75515ea"
      },
      "execution_count": null,
      "outputs": [
        {
          "output_type": "stream",
          "name": "stdout",
          "text": [
            "Kor Eng Math Geo Chem dict_values([90, 100, 80, 75, 100])\n",
            "dict_items([('Kor', 90), ('Eng', 100), ('Math', 80), ('Geo', 75), ('Chem', 100)])\n"
          ]
        }
      ]
    },
    {
      "cell_type": "code",
      "source": [
        "idols=['BTS','뉴진스','세븐틴','블랙핑크','모모랜드']\n",
        "a_list = [3,4,6,8,9]\n",
        "idols_idx=dict(zip(idols,a_list))\n",
        "idols_idx\n",
        "\n",
        "for key, value in scores.items():\n",
        "  print(f'키 : {key},값: {value}')\n",
        "arts={\"미술\":100,'음악': 80}\n",
        "scores.update(arts)\n",
        "print(scores)"
      ],
      "metadata": {
        "colab": {
          "base_uri": "https://localhost:8080/"
        },
        "id": "416VmmP0P72H",
        "outputId": "0da57715-f3ea-4a61-ed23-191240c1b1a6"
      },
      "execution_count": null,
      "outputs": [
        {
          "output_type": "stream",
          "name": "stdout",
          "text": [
            "키 : Kor,값: 90\n",
            "키 : Eng,값: 100\n",
            "키 : Math,값: 80\n",
            "키 : Geo,값: 75\n",
            "키 : Chem,값: 100\n",
            "키 : 미술,값: 100\n",
            "키 : 음악,값: 80\n",
            "{'Kor': 90, 'Eng': 100, 'Math': 80, 'Geo': 75, 'Chem': 100, '미술': 100, '음악': 80}\n"
          ]
        }
      ]
    },
    {
      "cell_type": "code",
      "source": [
        "#[실습문제] 딕션너리 이용하기\n",
        "idols=['BTS','뉴진스','세븐틴','블랙핑크','모모랜드']\n",
        "scores={}\n",
        "for idol in idols:\n",
        "  scores[idol]=int(input(f\"점수를 입력하세요 : \"))\n",
        "print(scores)\n",
        "print(\"-\"*30)\n",
        "print(f\"성적 합계: {sum(scores.values())}, 평균 : {sum(scores.values())/len(scores)}\")"
      ],
      "metadata": {
        "colab": {
          "base_uri": "https://localhost:8080/"
        },
        "id": "hcjvUB-SSB9U",
        "outputId": "ea8796c5-fab7-4f17-c35e-bc914a2ab56e"
      },
      "execution_count": null,
      "outputs": [
        {
          "output_type": "stream",
          "name": "stdout",
          "text": [
            "점수를 입력하세요 : 80\n",
            "점수를 입력하세요 : 90\n",
            "점수를 입력하세요 : 100\n",
            "점수를 입력하세요 : 70\n",
            "점수를 입력하세요 : 60\n",
            "{'BTS': 80, '뉴진스': 90, '세븐틴': 100, '블랙핑크': 70, '모모랜드': 60}\n",
            "------------------------------\n",
            "성적 합계: 400, 평균 : 80.0\n"
          ]
        }
      ]
    },
    {
      "cell_type": "code",
      "source": [
        "dictionary_k=\"\"\"\n",
        "1.단어 등록\n",
        "2.단어 검색\n",
        "3.모든 단어 보기\n",
        "0.종료하기\n",
        "\"\"\"\n",
        "print(\"---선택메뉴--\")\n",
        "print(dictionary_k)\n",
        "dict_word={}\n",
        "i=0\n",
        "while True:\n",
        "  i+=1\n",
        "  선택=(input(\"선택 : \"))\n",
        "  if 선택=='1':\n",
        "    단어=(input(\"단어 : \"))\n",
        "    dict_word[단어]=f\"단어의 뜻은 {단어}\"\n",
        "  elif 선택 =='2':\n",
        "    #단어검색\n",
        "    word=(input(\"검색 단어는? :\"))\n",
        "    if dict_word[word]:\n",
        "      (f\"{word}의 뜻은 {dict_word[word]}\")\n",
        "      print(dict_word[word])\n",
        "    else:\n",
        "      print(f'{word}는 미등록 단어입니다.')\n",
        "  elif 선택 =='3':\n",
        "    #단어열람\n",
        "    print(dict_word)\n",
        "  elif 선택 =='0':\n",
        "    break\n",
        "print(\"프로그램 종료\")"
      ],
      "metadata": {
        "colab": {
          "base_uri": "https://localhost:8080/",
          "height": 547
        },
        "id": "tSLpWdIvTrVp",
        "outputId": "b08f5e8c-10c3-4b31-e0d6-68e18af67b5b"
      },
      "execution_count": null,
      "outputs": [
        {
          "name": "stdout",
          "output_type": "stream",
          "text": [
            "---선택메뉴--\n",
            "\n",
            "1.단어 등록\n",
            "2.단어 검색\n",
            "3.모든 단어 보기\n",
            "0.종료하기\n",
            "\n",
            "선택 : 1\n",
            "단어 : orange\n",
            "선택 : 2\n",
            "검색 단어는? :orange\n",
            "단어의 뜻은 orange\n",
            "선택 : 3\n",
            "{'orange': '단어의 뜻은 orange'}\n",
            "선택 : 2\n",
            "검색 단어는? :carrot\n"
          ]
        },
        {
          "output_type": "error",
          "ename": "KeyError",
          "evalue": "ignored",
          "traceback": [
            "\u001b[0;31m---------------------------------------------------------------------------\u001b[0m",
            "\u001b[0;31mKeyError\u001b[0m                                  Traceback (most recent call last)",
            "\u001b[0;32m<ipython-input-45-9c3db855fa75>\u001b[0m in \u001b[0;36m<cell line: 11>\u001b[0;34m()\u001b[0m\n\u001b[1;32m     18\u001b[0m     \u001b[0;31m#단어검색\u001b[0m\u001b[0;34m\u001b[0m\u001b[0;34m\u001b[0m\u001b[0m\n\u001b[1;32m     19\u001b[0m     \u001b[0mword\u001b[0m\u001b[0;34m=\u001b[0m\u001b[0;34m(\u001b[0m\u001b[0minput\u001b[0m\u001b[0;34m(\u001b[0m\u001b[0;34m\"검색 단어는? :\"\u001b[0m\u001b[0;34m)\u001b[0m\u001b[0;34m)\u001b[0m\u001b[0;34m\u001b[0m\u001b[0;34m\u001b[0m\u001b[0m\n\u001b[0;32m---> 20\u001b[0;31m     \u001b[0;32mif\u001b[0m \u001b[0mdict_word\u001b[0m\u001b[0;34m[\u001b[0m\u001b[0mword\u001b[0m\u001b[0;34m]\u001b[0m\u001b[0;34m:\u001b[0m\u001b[0;34m\u001b[0m\u001b[0;34m\u001b[0m\u001b[0m\n\u001b[0m\u001b[1;32m     21\u001b[0m       \u001b[0;34m(\u001b[0m\u001b[0;34mf\"{word}의 뜻은 {dict_word[word]}\"\u001b[0m\u001b[0;34m)\u001b[0m\u001b[0;34m\u001b[0m\u001b[0;34m\u001b[0m\u001b[0m\n\u001b[1;32m     22\u001b[0m       \u001b[0mprint\u001b[0m\u001b[0;34m(\u001b[0m\u001b[0mdict_word\u001b[0m\u001b[0;34m[\u001b[0m\u001b[0mword\u001b[0m\u001b[0;34m]\u001b[0m\u001b[0;34m)\u001b[0m\u001b[0;34m\u001b[0m\u001b[0;34m\u001b[0m\u001b[0m\n",
            "\u001b[0;31mKeyError\u001b[0m: 'carrot'"
          ]
        }
      ]
    },
    {
      "cell_type": "code",
      "source": [
        "dictionary_k=\"\"\"\n",
        "1.단어 등록\n",
        "2.단어 검색\n",
        "3.모든 단어 보기\n",
        "0.종료하기\n",
        "\"\"\"\n",
        "print(\"---선택메뉴--\")\n",
        "print(dictionary_k)\n",
        "dict_word={}\n",
        "i=0\n",
        "while True:\n",
        "  i+=1\n",
        "  선택=int(input(\"선택 : \"))\n",
        "  if 선택==1:\n",
        "    단어=(input(\"단어 : \"))\n",
        "    dict_word[i]=단어\n",
        "  elif 선택 ==2:\n",
        "    #단어검색\n",
        "    검색=int(input(\"검색 단어는? :\"))\n",
        "    print(dict_word[검색])\n",
        "  elif 선택 ==3:\n",
        "    #단어열람\n",
        "    print(dict_word)\n",
        "  elif 선택 ==0:\n",
        "    break"
      ],
      "metadata": {
        "id": "D-bSjg14b-o-"
      },
      "execution_count": null,
      "outputs": []
    },
    {
      "cell_type": "code",
      "source": [
        "#1~10 정수에서 3배수만 리스트로 만들기\n",
        "numbers=[]\n",
        "for num in range(1,21):\n",
        "  if num %3 ==0:\n",
        "    numbers.append(num)\n",
        "print (numbers)\n",
        "\n",
        "numbers =[num for num in range(0,21) if num%3==0]"
      ],
      "metadata": {
        "colab": {
          "base_uri": "https://localhost:8080/"
        },
        "id": "_hrw_KYzl3H4",
        "outputId": "87006116-6719-4e9f-acd8-8e53683543ac"
      },
      "execution_count": null,
      "outputs": [
        {
          "output_type": "stream",
          "name": "stdout",
          "text": [
            "[3, 6, 9, 12, 15, 18]\n"
          ]
        }
      ]
    }
  ]
}