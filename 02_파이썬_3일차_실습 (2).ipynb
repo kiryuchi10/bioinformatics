{
  "cells": [
    {
      "cell_type": "markdown",
      "metadata": {
        "id": "SdD6B4uL2m36"
      },
      "source": [
        "##[미션] if 조건문  "
      ]
    },
    {
      "cell_type": "code",
      "execution_count": null,
      "metadata": {
        "colab": {
          "base_uri": "https://localhost:8080/"
        },
        "id": "RioL9rtqx-Z0",
        "outputId": "3efebf83-52c2-4049-b2a9-caada23cd896"
      },
      "outputs": [
        {
          "name": "stdout",
          "output_type": "stream",
          "text": [
            "23년 08월 09일 01시 13분 05초 입니다\n"
          ]
        }
      ],
      "source": [
        "import datetime\n",
        "now=datetime.datetime.now()\n",
        "print(now.strftime(\"%y년 %m월 %d일 %H시 %M분 %S초 입니다\"))"
      ]
    },
    {
      "cell_type": "markdown",
      "metadata": {
        "id": "8qHvALAe8cxa"
      },
      "source": [
        "파이썬 반복문\n",
        "1. for 문\n",
        "2. while 문"
      ]
    },
    {
      "cell_type": "code",
      "execution_count": null,
      "metadata": {
        "colab": {
          "base_uri": "https://localhost:8080/"
        },
        "id": "Pn9p-bby8ZOO",
        "outputId": "8b8eb8b8-9aad-40a2-ac34-de6ae6016d92"
      },
      "outputs": [
        {
          "name": "stdout",
          "output_type": "stream",
          "text": [
            "0 안녕하세요? for문을 배우는 중입니다\n",
            "1 안녕하세요? for문을 배우는 중입니다\n",
            "2 안녕하세요? for문을 배우는 중입니다\n",
            "0 안녕하세요? for문을 배우는 중입니다\n",
            "2 안녕하세요? for문을 배우는 중입니다\n",
            "4 안녕하세요? for문을 배우는 중입니다\n",
            "6 안녕하세요? for문을 배우는 중입니다\n",
            "8 안녕하세요? for문을 배우는 중입니다\n"
          ]
        }
      ],
      "source": [
        "#for i in range(3):\n",
        "#for i in range(0,3):\n",
        "for i in range(0,3,1):\n",
        "  print(f\"{i} 안녕하세요? for문을 배우는 중입니다\")\n",
        "\n",
        "for i in range(0,10,2):\n",
        "  print(f\"{i} 안녕하세요? for문을 배우는 중입니다\")"
      ]
    },
    {
      "cell_type": "code",
      "execution_count": null,
      "metadata": {
        "colab": {
          "base_uri": "https://localhost:8080/"
        },
        "id": "KkTbonxG_ERz",
        "outputId": "f8b8e2b6-7b6b-42f8-b366-99acfb0defbd"
      },
      "outputs": [
        {
          "name": "stdout",
          "output_type": "stream",
          "text": [
            "[0, 3, 6, 9]\n"
          ]
        }
      ],
      "source": [
        "print(list(range(0,10,3)))"
      ]
    },
    {
      "cell_type": "markdown",
      "metadata": {
        "id": "lBKzARgo_Yv8"
      },
      "source": [
        "### 리스트 사용해서 반복하기"
      ]
    },
    {
      "cell_type": "code",
      "execution_count": null,
      "metadata": {
        "colab": {
          "base_uri": "https://localhost:8080/"
        },
        "id": "DSzA7nF8_cvp",
        "outputId": "83963dd3-e4ef-4b16-b477-04b5aca607cf"
      },
      "outputs": [
        {
          "name": "stdout",
          "output_type": "stream",
          "text": [
            "1 안녕하세요? for문을 배우는 중입니다\n",
            "2 안녕하세요? for문을 배우는 중입니다\n",
            "3 안녕하세요? for문을 배우는 중입니다\n",
            "444 안녕하세요? for문을 배우는 중입니다\n",
            "[5, 9, 10] 안녕하세요? for문을 배우는 중입니다\n"
          ]
        }
      ],
      "source": [
        "for 번호 in [1,2,\"3\",\"444\",[5,9,10]]:\n",
        "  print(f\"{번호} 안녕하세요? for문을 배우는 중입니다\")"
      ]
    },
    {
      "cell_type": "code",
      "execution_count": null,
      "metadata": {
        "colab": {
          "base_uri": "https://localhost:8080/"
        },
        "id": "mR13nKqfAEK6",
        "outputId": "4e6c76dd-7be5-4e7c-9e17-27fb4cd8c992"
      },
      "outputs": [
        {
          "name": "stdout",
          "output_type": "stream",
          "text": [
            "s 안녕하세요? for문을 배우는 중입니다\n",
            "t 안녕하세요? for문을 배우는 중입니다\n",
            "u 안녕하세요? for문을 배우는 중입니다\n",
            "d 안녕하세요? for문을 배우는 중입니다\n",
            "e 안녕하세요? for문을 배우는 중입니다\n",
            "n 안녕하세요? for문을 배우는 중입니다\n",
            "t 안녕하세요? for문을 배우는 중입니다\n"
          ]
        }
      ],
      "source": [
        "for 번호 in \"student\":\n",
        " print(f\"{번호} 안녕하세요? for문을 배우는 중입니다\")"
      ]
    },
    {
      "cell_type": "markdown",
      "metadata": {
        "id": "9kr0ilB7AVUc"
      },
      "source": [
        "변수를 사용하지 않으려면_사용"
      ]
    },
    {
      "cell_type": "code",
      "execution_count": null,
      "metadata": {
        "colab": {
          "background_save": true
        },
        "id": "20rljzhQAUN4",
        "outputId": "26871fbb-8586-4085-f302-30ab95ba4440"
      },
      "outputs": [
        {
          "name": "stdout",
          "output_type": "stream",
          "text": [
            "s 안녕하세요? for문을 배우는 중입니다\n",
            "t 안녕하세요? for문을 배우는 중입니다\n",
            "u 안녕하세요? for문을 배우는 중입니다\n",
            "d 안녕하세요? for문을 배우는 중입니다\n",
            "e 안녕하세요? for문을 배우는 중입니다\n",
            "n 안녕하세요? for문을 배우는 중입니다\n",
            "t 안녕하세요? for문을 배우는 중입니다\n"
          ]
        }
      ],
      "source": [
        "for _ in 'student':\n",
        "  print(f\"{_} 안녕하세요? for문을 배우는 중입니다\")"
      ]
    },
    {
      "cell_type": "code",
      "source": [
        "for i in range(5):\n",
        "  for k in range(3):\n",
        "    print(f\"{i}:{k}\", end= ' ')\n",
        "  print()"
      ],
      "metadata": {
        "colab": {
          "base_uri": "https://localhost:8080/"
        },
        "id": "5vFGqQB_Xpug",
        "outputId": "3b57c3ef-3ef5-45bc-f4a7-7cd82849115a"
      },
      "execution_count": 58,
      "outputs": [
        {
          "output_type": "stream",
          "name": "stdout",
          "text": [
            "0:0 0:1 0:2 \n",
            "1:0 1:1 1:2 \n",
            "2:0 2:1 2:2 \n",
            "3:0 3:1 3:2 \n",
            "4:0 4:1 4:2 \n"
          ]
        }
      ]
    },
    {
      "cell_type": "code",
      "source": [
        "for i in range(1,10):\n",
        "  for k in range(2,10):\n",
        "    print(f\"{k}X{i}={i*k:<2}\", end= ' ')\n",
        "  print()"
      ],
      "metadata": {
        "colab": {
          "base_uri": "https://localhost:8080/"
        },
        "id": "pxE2GAogX62A",
        "outputId": "d5f6a450-0039-41db-fe8c-62edb4111c01"
      },
      "execution_count": 86,
      "outputs": [
        {
          "output_type": "stream",
          "name": "stdout",
          "text": [
            "2X1=2  3X1=3  4X1=4  5X1=5  6X1=6  7X1=7  8X1=8  9X1=9  \n",
            "2X2=4  3X2=6  4X2=8  5X2=10 6X2=12 7X2=14 8X2=16 9X2=18 \n",
            "2X3=6  3X3=9  4X3=12 5X3=15 6X3=18 7X3=21 8X3=24 9X3=27 \n",
            "2X4=8  3X4=12 4X4=16 5X4=20 6X4=24 7X4=28 8X4=32 9X4=36 \n",
            "2X5=10 3X5=15 4X5=20 5X5=25 6X5=30 7X5=35 8X5=40 9X5=45 \n",
            "2X6=12 3X6=18 4X6=24 5X6=30 6X6=36 7X6=42 8X6=48 9X6=54 \n",
            "2X7=14 3X7=21 4X7=28 5X7=35 6X7=42 7X7=49 8X7=56 9X7=63 \n",
            "2X8=16 3X8=24 4X8=32 5X8=40 6X8=48 7X8=56 8X8=64 9X8=72 \n",
            "2X9=18 3X9=27 4X9=36 5X9=45 6X9=54 7X9=63 8X9=72 9X9=81 \n"
          ]
        }
      ]
    },
    {
      "cell_type": "code",
      "source": [
        "for i in range(1,10):\n",
        "  print(f\"#{i}단 \", end =' ')\n",
        "  print('\\n'+'-'*60)\n",
        "  for k in range(2,10):\n",
        "    print(f\"{k}X{i}={i*k:<2}\", end= ' ')\n",
        "  print()\n",
        ""
      ],
      "metadata": {
        "colab": {
          "base_uri": "https://localhost:8080/"
        },
        "id": "6WHLkZYVYtmX",
        "outputId": "7bc18d45-07cd-435f-a4cf-3664c5980c51"
      },
      "execution_count": 87,
      "outputs": [
        {
          "output_type": "stream",
          "name": "stdout",
          "text": [
            "#1단  \n",
            "------------------------------------------------------------\n",
            "2X1=2  3X1=3  4X1=4  5X1=5  6X1=6  7X1=7  8X1=8  9X1=9  \n",
            "#2단  \n",
            "------------------------------------------------------------\n",
            "2X2=4  3X2=6  4X2=8  5X2=10 6X2=12 7X2=14 8X2=16 9X2=18 \n",
            "#3단  \n",
            "------------------------------------------------------------\n",
            "2X3=6  3X3=9  4X3=12 5X3=15 6X3=18 7X3=21 8X3=24 9X3=27 \n",
            "#4단  \n",
            "------------------------------------------------------------\n",
            "2X4=8  3X4=12 4X4=16 5X4=20 6X4=24 7X4=28 8X4=32 9X4=36 \n",
            "#5단  \n",
            "------------------------------------------------------------\n",
            "2X5=10 3X5=15 4X5=20 5X5=25 6X5=30 7X5=35 8X5=40 9X5=45 \n",
            "#6단  \n",
            "------------------------------------------------------------\n",
            "2X6=12 3X6=18 4X6=24 5X6=30 6X6=36 7X6=42 8X6=48 9X6=54 \n",
            "#7단  \n",
            "------------------------------------------------------------\n",
            "2X7=14 3X7=21 4X7=28 5X7=35 6X7=42 7X7=49 8X7=56 9X7=63 \n",
            "#8단  \n",
            "------------------------------------------------------------\n",
            "2X8=16 3X8=24 4X8=32 5X8=40 6X8=48 7X8=56 8X8=64 9X8=72 \n",
            "#9단  \n",
            "------------------------------------------------------------\n",
            "2X9=18 3X9=27 4X9=36 5X9=45 6X9=54 7X9=63 8X9=72 9X9=81 \n"
          ]
        }
      ]
    },
    {
      "cell_type": "code",
      "source": [
        "for i in range(2,10):\n",
        "  print(f'# {i}단 ', end=' ')\n",
        "# print()  # '\\n'\n",
        "print('\\n'+'-'*60)\n",
        "\n",
        "for i in range(1,10):\n",
        "  for k in range(2,10):\n",
        "    print(f'{k}x{i}={i*k:>2}', end=' ')\n",
        "  print()"
      ],
      "metadata": {
        "id": "1YBx16X5uJek"
      },
      "execution_count": null,
      "outputs": []
    },
    {
      "cell_type": "code",
      "source": [
        "import random\n",
        "random.randint(1,10)\n",
        "random.randrange(1,11)\n",
        "\n",
        "print(random.random()) #0~1 사이의 임의의 실수\n",
        "print(random.uniform(0.5,1)) #start~end 상이의 임의의 실수"
      ],
      "metadata": {
        "colab": {
          "base_uri": "https://localhost:8080/"
        },
        "id": "UZmK9H6stjgV",
        "outputId": "10a572d7-45a8-42d6-af6c-0db918d992fc"
      },
      "execution_count": 90,
      "outputs": [
        {
          "output_type": "stream",
          "name": "stdout",
          "text": [
            "0.11561225379274398\n",
            "0.7734895701086305\n"
          ]
        }
      ]
    },
    {
      "cell_type": "code",
      "source": [
        "#리스트 섞기\n",
        "import numpy as np\n",
        "a=np.arange(1,10,1)\n",
        "a=[1,2,3,4,5,6,7,8]\n",
        "print(a)\n",
        "random.shuffle(a)\n",
        "print(a)\n",
        "type(a)"
      ],
      "metadata": {
        "colab": {
          "base_uri": "https://localhost:8080/"
        },
        "id": "NEUv6uTsvP-s",
        "outputId": "800b7574-1105-405a-dda9-55b5ea2ad290"
      },
      "execution_count": 99,
      "outputs": [
        {
          "output_type": "stream",
          "name": "stdout",
          "text": [
            "[1, 2, 3, 4, 5, 6, 7, 8]\n",
            "[4, 8, 5, 2, 3, 7, 6, 1]\n"
          ]
        },
        {
          "output_type": "execute_result",
          "data": {
            "text/plain": [
              "list"
            ]
          },
          "metadata": {},
          "execution_count": 99
        }
      ]
    },
    {
      "cell_type": "code",
      "source": [
        "#리스트 요소 중에 하나 선택하기\n",
        "random.choice(a)\n",
        "\n",
        "#리스트 요소 중에 개수 지정해서 선택하기\n",
        "print(random.sample(a,3))\n",
        "print(random.sample(range(1,46),6))\n",
        "print(sorted(random.sample(range(1,46),6)))"
      ],
      "metadata": {
        "colab": {
          "base_uri": "https://localhost:8080/"
        },
        "id": "Orq6nJtIw-NE",
        "outputId": "8a94d064-9b7c-438f-daef-aab43027d258"
      },
      "execution_count": 104,
      "outputs": [
        {
          "output_type": "stream",
          "name": "stdout",
          "text": [
            "[6, 2, 1]\n",
            "[39, 38, 37, 17, 12, 34]\n"
          ]
        }
      ]
    },
    {
      "cell_type": "code",
      "source": [
        "from numpy.core.arrayprint import printoptions\n",
        "print(random.sample(range(1,46),2))\n",
        "a,b=random.sample(range(1,46),2)\n",
        "print(a,b)\n",
        "for i in range(1,6):\n",
        "  a,b=random.sample(range(1,46),2)\n",
        "  print(f\"{i}번째 시도\"+\"-\"*30)\n",
        "  print(f\"주사위 결과: 첫번째 {a}, 두번째 {b}\")\n",
        "  if a>b:\n",
        "    print(\"첫 번째 주사위가 이겼습니다\")\n",
        "  elif a<b:\n",
        "    print(\"두 번째 주사위가 이겼습니다\")\n",
        "  elif a==b:\n",
        "    print(\"두 주사위가 비겼습니다\")"
      ],
      "metadata": {
        "colab": {
          "base_uri": "https://localhost:8080/"
        },
        "id": "yeK27R_qzn3q",
        "outputId": "7952fbed-6a5d-4fc2-e485-127ea70834e9"
      },
      "execution_count": 127,
      "outputs": [
        {
          "output_type": "stream",
          "name": "stdout",
          "text": [
            "[18, 26]\n",
            "12 5\n",
            "1번째 시도------------------------------\n",
            "주사위 결과: 첫번째 22, 두번째 1\n",
            "첫 번째 주사위가 이겼습니다\n",
            "2번째 시도------------------------------\n",
            "주사위 결과: 첫번째 13, 두번째 24\n",
            "두 번째 주사위가 이겼습니다\n",
            "3번째 시도------------------------------\n",
            "주사위 결과: 첫번째 33, 두번째 32\n",
            "첫 번째 주사위가 이겼습니다\n",
            "4번째 시도------------------------------\n",
            "주사위 결과: 첫번째 6, 두번째 33\n",
            "두 번째 주사위가 이겼습니다\n",
            "5번째 시도------------------------------\n",
            "주사위 결과: 첫번째 13, 두번째 6\n",
            "첫 번째 주사위가 이겼습니다\n"
          ]
        }
      ]
    },
    {
      "cell_type": "code",
      "source": [
        " c1,c2,c3,c4,c5,c6=0,0,0,0,0,0\n",
        " for i in range(1,101):\n",
        "  a=random.randint(1,6)\n",
        "  if a==1:\n",
        "    c1+=1\n",
        "  elif a==2:\n",
        "    c2+=1\n",
        "  elif a==3:\n",
        "    c3+=1\n",
        "  elif a==4:\n",
        "    c4+=1\n",
        "  elif a==5:\n",
        "    c5+=1\n",
        "  elif a==6:\n",
        "    c6+=1\n",
        "\n",
        "print(f\"{c1} {c2} {c3} {c4} {c5} {c6}\")"
      ],
      "metadata": {
        "colab": {
          "base_uri": "https://localhost:8080/"
        },
        "id": "MxtufqCL375O",
        "outputId": "9695842f-9f58-4e19-820a-7e303f466a19"
      },
      "execution_count": 139,
      "outputs": [
        {
          "output_type": "stream",
          "name": "stdout",
          "text": [
            "15 18 15 20 9 23\n"
          ]
        }
      ]
    },
    {
      "cell_type": "code",
      "source": [
        "dice=[0,0,0,0,0,0]\n",
        "for i in range(10):\n",
        "  num=random.randint(1,6)\n",
        "  dice[num-1]=dice[num-1]+1\n",
        "  print(f\"{i}회 시도 나온수({num}),주사위 : {dice}\")\n",
        "print(f\"가장 큰 횟수: {max(dice)}의 주사위눈금은 {dice.index(max(dice))+1}\")\n",
        "np.where(max(dice))\n",
        "#print(f\"D1{d1},D1{d1},D2{d2},D3{d3},D4{d4},D5{d5},D6{d6}\")"
      ],
      "metadata": {
        "colab": {
          "base_uri": "https://localhost:8080/"
        },
        "id": "MMpUWdn56WI7",
        "outputId": "463adc9f-4ae0-421a-f49e-6944bcce916a"
      },
      "execution_count": 149,
      "outputs": [
        {
          "output_type": "stream",
          "name": "stdout",
          "text": [
            "0회 시도 나온수(2),주사위 : [0, 1, 0, 0, 0, 0]\n",
            "1회 시도 나온수(6),주사위 : [0, 1, 0, 0, 0, 1]\n",
            "2회 시도 나온수(1),주사위 : [1, 1, 0, 0, 0, 1]\n",
            "3회 시도 나온수(2),주사위 : [1, 2, 0, 0, 0, 1]\n",
            "4회 시도 나온수(3),주사위 : [1, 2, 1, 0, 0, 1]\n",
            "5회 시도 나온수(4),주사위 : [1, 2, 1, 1, 0, 1]\n",
            "6회 시도 나온수(3),주사위 : [1, 2, 2, 1, 0, 1]\n",
            "7회 시도 나온수(1),주사위 : [2, 2, 2, 1, 0, 1]\n",
            "8회 시도 나온수(1),주사위 : [3, 2, 2, 1, 0, 1]\n",
            "9회 시도 나온수(1),주사위 : [4, 2, 2, 1, 0, 1]\n",
            "가장 큰 횟수: 4의 주사위눈금은 1\n"
          ]
        },
        {
          "output_type": "execute_result",
          "data": {
            "text/plain": [
              "(array([0]),)"
            ]
          },
          "metadata": {},
          "execution_count": 149
        }
      ]
    },
    {
      "cell_type": "code",
      "source": [
        "a=random.sample(range(1,7),1)\n",
        "print(a)"
      ],
      "metadata": {
        "colab": {
          "base_uri": "https://localhost:8080/"
        },
        "id": "-eUYzB1p5G6t",
        "outputId": "f1889805-71aa-48c9-cb84-650ea3723d05"
      },
      "execution_count": 134,
      "outputs": [
        {
          "output_type": "stream",
          "name": "stdout",
          "text": [
            "[3]\n"
          ]
        }
      ]
    },
    {
      "cell_type": "code",
      "source": [
        "treeHit=0\n",
        "while treeHit<10:\n",
        "  print(f\"나무를 {treeHit+1}번 찍었습니다. \")\n",
        "  treeHit+=1\n",
        "print(\"나무가 넘어갑니다\")"
      ],
      "metadata": {
        "colab": {
          "base_uri": "https://localhost:8080/"
        },
        "id": "L_CpLxCjHrcr",
        "outputId": "75d2fb68-97ed-4fcd-ce96-755ded437aeb"
      },
      "execution_count": 151,
      "outputs": [
        {
          "output_type": "stream",
          "name": "stdout",
          "text": [
            "나무를 1번 찍었습니다. \n",
            "나무를 2번 찍었습니다. \n",
            "나무를 3번 찍었습니다. \n",
            "나무를 4번 찍었습니다. \n",
            "나무를 5번 찍었습니다. \n",
            "나무를 6번 찍었습니다. \n",
            "나무를 7번 찍었습니다. \n",
            "나무를 8번 찍었습니다. \n",
            "나무를 9번 찍었습니다. \n",
            "나무를 10번 찍었습니다. \n",
            "나무를 11번 찍었습니다. \n",
            "나무가 넘어갑니다\n"
          ]
        }
      ]
    },
    {
      "cell_type": "code",
      "source": [
        "prompt=\"\"\"\n",
        "  1. Add 2. Del 3. Modify 4. Quit\n",
        "\n",
        "  Enter number:\n",
        "\"\"\"\n",
        "num=''\n",
        "while num!='4':\n",
        "  num=(input(prompt))\n",
        "print(\"Program closed\")"
      ],
      "metadata": {
        "colab": {
          "base_uri": "https://localhost:8080/"
        },
        "id": "hW7Nx-0jLbvX",
        "outputId": "463647cd-78cf-432c-963c-d18cee9d7c3d"
      },
      "execution_count": 161,
      "outputs": [
        {
          "output_type": "stream",
          "name": "stdout",
          "text": [
            "\n",
            "  1. Add 2. Del 3. Modify 4. Quit\n",
            "\n",
            "  Enter number: \n",
            "4\n",
            "Program closed\n"
          ]
        }
      ]
    },
    {
      "cell_type": "code",
      "source": [
        "prompt = \"\"\"\n",
        "    1.추가  2.삭제  3.수정  4.종료\n",
        "    해당하는 번호를 입력해주세요: \"\"\"\n",
        "num = ''\n",
        "while num != '4':\n",
        "    num = input(prompt)\n",
        "print('program finish!')"
      ],
      "metadata": {
        "colab": {
          "base_uri": "https://localhost:8080/"
        },
        "id": "FepSRrrDMp9X",
        "outputId": "24aced94-4f0c-4e88-ac4a-4e1c76d319f2"
      },
      "execution_count": 157,
      "outputs": [
        {
          "output_type": "stream",
          "name": "stdout",
          "text": [
            "\n",
            "    1.추가  2.삭제  3.수정  4.종료\n",
            "    해당하는 번호를 입력해주세요: 4\n",
            "program finish!\n"
          ]
        }
      ]
    },
    {
      "cell_type": "code",
      "source": [
        "#커피 주문 프로그램  반복문 이용해서 거스름돈 > 0까지 돈을 넣으라고 반복하기coffee1_price = 2500\n",
        "coffee1_price=2000\n",
        "coffee2_price = 3000\n",
        "coffee3_price = 3000\n",
        "menu = f'''[커피 자동주문 머신 메뉴]\n",
        "------------------------\n",
        "- 아메리카노:  {coffee1_price}원\n",
        "- 카페라떼:    {coffee2_price}원\n",
        "- 카푸치노:    {coffee3_price}원\n",
        "------------------------\n",
        "원하시는 커피종류와 잔수를 입력하세요!\n",
        "'''\n",
        "print(menu)\n",
        "coffee1 = int(input('아메리카노 몇잔: '))\n",
        "coffee2 = int(input('카페라떼   몇잔: '))\n",
        "coffee3 = int(input('카푸치노   몇잔: '))\n",
        "total = coffee1_price*coffee1 + coffee2_price*coffee2 + coffee3_price*coffee3\n",
        "print(f'주문하신 총 가격은 {total}원 입니다.')\n",
        "\n",
        "money = int(input('돈을 입력해주세요: '))\n",
        "change=0\n",
        "while change!=0:\n",
        "  if total > money:\n",
        "    print(f'{total-money}원이 부족합니다. 돈을 더 넣어주세요.')\n",
        "    change=abs(total-money)\n",
        "    #print(f'{change}원이 부족합니다. 돈을 더 넣어주세요.')\n",
        "  else:\n",
        "    print(f'거스름돈은 {abs(total-money)}원 입니다. 커피 맛있게 드세요~')\n",
        "money=int(input(\"돈 넣어주세요\"))"
      ],
      "metadata": {
        "colab": {
          "base_uri": "https://localhost:8080/"
        },
        "id": "8N0zBJ29NngE",
        "outputId": "96b14649-aeed-4ced-9a9c-a0b7ddd90ae8"
      },
      "execution_count": 174,
      "outputs": [
        {
          "name": "stdout",
          "output_type": "stream",
          "text": [
            "[커피 자동주문 머신 메뉴]\n",
            "------------------------\n",
            "- 아메리카노:  2000원\n",
            "- 카페라떼:    3000원\n",
            "- 카푸치노:    3000원\n",
            "------------------------\n",
            "원하시는 커피종류와 잔수를 입력하세요!\n",
            "\n",
            "아메리카노 몇잔: 1\n",
            "카페라떼   몇잔: 2\n",
            "카푸치노   몇잔: 3\n",
            "주문하신 총 가격은 17000원 입니다.\n",
            "돈을 입력해주세요: 14000\n",
            "돈 넣어주세요2000\n"
          ]
        }
      ]
    },
    {
      "cell_type": "code",
      "source": [
        "#커피 주문 프로그램  반복문 이용해서 거스름돈 > 0까지 돈을 넣으라고 반복하기\n",
        "coffee1_price = 2500\n",
        "coffee2_price = 3000\n",
        "coffee3_price = 3000\n",
        "menu = f'''[커피 자동주문 머신 메뉴]\n",
        "------------------------\n",
        "- 아메리카노:  {coffee1_price}원\n",
        "- 카페라떼:    {coffee2_price}원\n",
        "- 카푸치노:    {coffee3_price}원\n",
        "------------------------\n",
        "원하시는 커피종류와 잔수를 입력하세요!\n",
        "'''\n",
        "print(menu)\n",
        "coffee1 = int(input('아메리카노 몇잔: '))\n",
        "coffee2 = int(input('카페라떼   몇잔: '))\n",
        "coffee3 = int(input('카푸치노   몇잔: '))\n",
        "total = coffee1_price*coffee1 + coffee2_price*coffee2 + coffee3_price*coffee3\n",
        "print(f'주문하신 총 가격은 {total}원 입니다.')\n",
        "\n",
        "money = 0\n",
        "while total > money:\n",
        "    print(f'{total - money}원이 부족합니다. 돈을 더 넣어주세요.')\n",
        "    new_money = int(input('돈을 입력해주세요: '))\n",
        "    money += new_money\n",
        "print(f'거스름돈은 {money - total}원 입니다. 커피 맛있게 드세요~')"
      ],
      "metadata": {
        "id": "B8259dLWREo2",
        "outputId": "ec269ea4-ddb9-46b8-be95-3e060d6ac067",
        "colab": {
          "base_uri": "https://localhost:8080/"
        }
      },
      "execution_count": 175,
      "outputs": [
        {
          "output_type": "stream",
          "name": "stdout",
          "text": [
            "[커피 자동주문 머신 메뉴]\n",
            "------------------------\n",
            "- 아메리카노:  2500원\n",
            "- 카페라떼:    3000원\n",
            "- 카푸치노:    3000원\n",
            "------------------------\n",
            "원하시는 커피종류와 잔수를 입력하세요!\n",
            "\n",
            "아메리카노 몇잔: 1\n",
            "카페라떼   몇잔: 2\n",
            "카푸치노   몇잔: 3\n",
            "주문하신 총 가격은 17500원 입니다.\n",
            "17500원이 부족합니다. 돈을 더 넣어주세요.\n",
            "돈을 입력해주세요: 15000\n",
            "2500원이 부족합니다. 돈을 더 넣어주세요.\n",
            "돈을 입력해주세요: 500\n",
            "2000원이 부족합니다. 돈을 더 넣어주세요.\n",
            "돈을 입력해주세요: 1000\n",
            "1000원이 부족합니다. 돈을 더 넣어주세요.\n",
            "돈을 입력해주세요: 1000\n",
            "거스름돈은 0원 입니다. 커피 맛있게 드세요~\n"
          ]
        }
      ]
    }
  ],
  "metadata": {
    "colab": {
      "provenance": []
    },
    "kernelspec": {
      "display_name": "Python 3",
      "name": "python3"
    },
    "language_info": {
      "name": "python"
    }
  },
  "nbformat": 4,
  "nbformat_minor": 0
}